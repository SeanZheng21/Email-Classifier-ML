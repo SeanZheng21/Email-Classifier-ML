{
 "cells": [
  {
   "cell_type": "markdown",
   "metadata": {
    "pycharm": {
     "name": "#%% md\n"
    }
   },
   "source": [
    "# Email Text Classifier\n",
    "This notebook creates a machine learning model that classifies emails into three categories: HR, Marketing, IT.\n",
    "\n",
    "We have a .csv dataset that contains examples of emails for each category.\n",
    "The machine learning model does the prediction of the category of a given email (assume that the input will always be a text).\n",
    "\n",
    "After that, the ML model is tested out with some examples (1 example per category)\n",
    "that are not in the dataset."
   ]
  },
  {
   "cell_type": "code",
   "execution_count": 1,
   "metadata": {
    "pycharm": {
     "name": "#%%\n"
    }
   },
   "outputs": [],
   "source": [
    "import pandas as pd\n",
    "from sklearn.feature_extraction.text import TfidfTransformer, CountVectorizer\n",
    "from sklearn.model_selection import train_test_split\n",
    "from nltk.stem.porter import PorterStemmer\n",
    "from nltk.tokenize import RegexpTokenizer"
   ]
  },
  {
   "cell_type": "markdown",
   "metadata": {
    "pycharm": {
     "name": "#%% md\n"
    }
   },
   "source": [
    "## Read and prepare the input data"
   ]
  },
  {
   "cell_type": "code",
   "execution_count": 2,
   "metadata": {
    "pycharm": {
     "name": "#%%\n"
    }
   },
   "outputs": [
    {
     "name": "stdout",
     "output_type": "stream",
     "text": [
      "160\n"
     ]
    },
    {
     "data": {
      "text/html": [
       "<div>\n",
       "<style scoped>\n",
       "    .dataframe tbody tr th:only-of-type {\n",
       "        vertical-align: middle;\n",
       "    }\n",
       "\n",
       "    .dataframe tbody tr th {\n",
       "        vertical-align: top;\n",
       "    }\n",
       "\n",
       "    .dataframe thead th {\n",
       "        text-align: right;\n",
       "    }\n",
       "</style>\n",
       "<table border=\"1\" class=\"dataframe\">\n",
       "  <thead>\n",
       "    <tr style=\"text-align: right;\">\n",
       "      <th></th>\n",
       "      <th>email</th>\n",
       "      <th>category</th>\n",
       "    </tr>\n",
       "  </thead>\n",
       "  <tbody>\n",
       "    <tr>\n",
       "      <th>0</th>\n",
       "      <td>this is an it email and we are struggling with...</td>\n",
       "      <td>IT</td>\n",
       "    </tr>\n",
       "    <tr>\n",
       "      <th>1</th>\n",
       "      <td>can you guys check the network settings</td>\n",
       "      <td>IT</td>\n",
       "    </tr>\n",
       "    <tr>\n",
       "      <th>2</th>\n",
       "      <td>A computer virus is a software program that h...</td>\n",
       "      <td>IT</td>\n",
       "    </tr>\n",
       "    <tr>\n",
       "      <th>3</th>\n",
       "      <td>All versions of Microsoft Windows do not come...</td>\n",
       "      <td>IT</td>\n",
       "    </tr>\n",
       "    <tr>\n",
       "      <th>4</th>\n",
       "      <td>As with most computer errors, your first step...</td>\n",
       "      <td>IT</td>\n",
       "    </tr>\n",
       "    <tr>\n",
       "      <th>5</th>\n",
       "      <td>what is a computer virus?  a computer virus is...</td>\n",
       "      <td>IT</td>\n",
       "    </tr>\n",
       "    <tr>\n",
       "      <th>6</th>\n",
       "      <td>Does Windows come with a virus protection prog...</td>\n",
       "      <td>IT</td>\n",
       "    </tr>\n",
       "    <tr>\n",
       "      <th>7</th>\n",
       "      <td>what do I do if my hard disk fails to work as ...</td>\n",
       "      <td>IT</td>\n",
       "    </tr>\n",
       "    <tr>\n",
       "      <th>8</th>\n",
       "      <td>My Computer does not power up?- Check that all...</td>\n",
       "      <td>IT</td>\n",
       "    </tr>\n",
       "    <tr>\n",
       "      <th>9</th>\n",
       "      <td>I can't delete a file because it is being used...</td>\n",
       "      <td>IT</td>\n",
       "    </tr>\n",
       "  </tbody>\n",
       "</table>\n",
       "</div>"
      ],
      "text/plain": [
       "                                               email category\n",
       "0  this is an it email and we are struggling with...       IT\n",
       "1            can you guys check the network settings       IT\n",
       "2   A computer virus is a software program that h...       IT\n",
       "3   All versions of Microsoft Windows do not come...       IT\n",
       "4   As with most computer errors, your first step...       IT\n",
       "5  what is a computer virus?  a computer virus is...       IT\n",
       "6  Does Windows come with a virus protection prog...       IT\n",
       "7  what do I do if my hard disk fails to work as ...       IT\n",
       "8  My Computer does not power up?- Check that all...       IT\n",
       "9  I can't delete a file because it is being used...       IT"
      ]
     },
     "execution_count": 2,
     "metadata": {},
     "output_type": "execute_result"
    }
   ],
   "source": [
    "df = pd.read_csv(\"coding_challenge_dataset.csv\", names=[\"email\", \"category\"])\n",
    "print(len(df))\n",
    "df.head(10)"
   ]
  },
  {
   "cell_type": "markdown",
   "metadata": {
    "pycharm": {
     "name": "#%% md\n"
    }
   },
   "source": [
    "Here I use the English stopwords, put them in a set."
   ]
  },
  {
   "cell_type": "code",
   "execution_count": 3,
   "metadata": {
    "pycharm": {
     "name": "#%%\n"
    }
   },
   "outputs": [],
   "source": [
    "def create_stopwords():\n",
    "    with open('./stopwords.txt') as f:\n",
    "        lines = f.read().splitlines()\n",
    "    return lines\n",
    "\n",
    "STOPWORDS = set(create_stopwords())"
   ]
  },
  {
   "cell_type": "markdown",
   "metadata": {
    "pycharm": {
     "name": "#%% md\n"
    }
   },
   "source": [
    "In this text cleaning step, I first convert the text to lower case, then I remove numbers.\n",
    "I use a tokenizer to remove whitespaces and punctuations by matching word characters.\n",
    "\n",
    "Then I remove all the words in the stop word set.\n",
    "\n",
    "For the TF-IDF in a later step, I convert the tokens to their stems to facilitate counting."
   ]
  },
  {
   "cell_type": "code",
   "execution_count": 4,
   "metadata": {
    "pycharm": {
     "name": "#%%\n"
    }
   },
   "outputs": [
    {
     "data": {
      "text/plain": [
       "0                             it email struggl network\n",
       "1                                guy check network set\n",
       "2    comput viru softwar program intent creat caus ...\n",
       "3    version microsoft window come pre instal viru ...\n",
       "4    comput error first step shut comput restart it...\n",
       "5    comput viru comput viru softwar program intent...\n",
       "6    window come viru protect program version micro...\n",
       "7    hard disk fail work comput error first step sh...\n",
       "8    comput power check cabl secur plug back machin...\n",
       "9    delet file it use window close program run com...\n",
       "Name: email_cleaned, dtype: object"
      ]
     },
     "execution_count": 4,
     "metadata": {},
     "output_type": "execute_result"
    }
   ],
   "source": [
    "tokenizer = RegexpTokenizer(r'\\w+')\n",
    "p_stemmer = PorterStemmer()\n",
    "\n",
    "def clean_text(raw):\n",
    "    \"\"\" clean and tokenize document string \"\"\"\n",
    "    # Lowercase\n",
    "    text = raw.lower()\n",
    "    # Remove numbers\n",
    "    text = ''.join([i for i in text if not i.isdigit()])\n",
    "    # Remove whitespaces and punctuations\n",
    "    tokens = tokenizer.tokenize(text)\n",
    "    # Remove stop words in English\n",
    "    stopped_tokens = [i for i in tokens if i not in STOPWORDS]\n",
    "    # stem tokens\n",
    "    stemmed_tokens = [p_stemmer.stem(i) for i in stopped_tokens]\n",
    "    text = \" \".join(stemmed_tokens)\n",
    "    return text\n",
    "\n",
    "df['email_cleaned'] = df['email'].apply(clean_text)\n",
    "df['email_cleaned'].head(10)"
   ]
  },
  {
   "cell_type": "markdown",
   "metadata": {
    "pycharm": {
     "name": "#%% md\n"
    }
   },
   "source": [
    "Split the dataset into a training set and a test set with a 70/30 split."
   ]
  },
  {
   "cell_type": "code",
   "execution_count": 5,
   "metadata": {
    "pycharm": {
     "name": "#%%\n"
    }
   },
   "outputs": [
    {
     "name": "stdout",
     "output_type": "stream",
     "text": [
      "112 48\n"
     ]
    },
    {
     "data": {
      "text/plain": [
       "(118    promo code valid new one free ride begin end z...\n",
       " 95     protect servic eeo categori encompass occup wo...\n",
       " 55            staff trainer week question help first day\n",
       " 109    get instant discount everyday item need save t...\n",
       " 18     display monitor make sure monitor power light ...\n",
       " Name: email_cleaned, dtype: object,\n",
       " 118    Marketing\n",
       " 95            HR\n",
       " 55            HR\n",
       " 109    Marketing\n",
       " 18            IT\n",
       " Name: category, dtype: object)"
      ]
     },
     "execution_count": 5,
     "metadata": {},
     "output_type": "execute_result"
    }
   ],
   "source": [
    "X = df['email_cleaned']\n",
    "y = df['category']\n",
    "X_train, X_test, y_train, y_test = train_test_split(X, y,\n",
    "                                                    test_size=0.3,\n",
    "                                                    random_state = 0)\n",
    "print(len(X_train), len(X_test))\n",
    "X_train.head(), y_train.head()"
   ]
  },
  {
   "cell_type": "markdown",
   "metadata": {},
   "source": [
    "## Vectorization\n",
    "\n",
    "Here I use the TF-IDF transformer to convert texts to numerical feature vectors."
   ]
  },
  {
   "cell_type": "code",
   "execution_count": 6,
   "metadata": {
    "pycharm": {
     "name": "#%%\n"
    }
   },
   "outputs": [],
   "source": [
    "count_vect = CountVectorizer()\n",
    "X_train_counts = count_vect.fit_transform(X_train)\n",
    "\n",
    "tfidf_vectorizer = TfidfTransformer(use_idf=True)\n",
    "X_train_tfidf = tfidf_vectorizer.fit_transform(X_train_counts)"
   ]
  },
  {
   "cell_type": "code",
   "execution_count": 7,
   "metadata": {
    "pycharm": {
     "name": "#%%\n"
    }
   },
   "outputs": [],
   "source": [
    "X_test_counts = count_vect.transform(X_test)\n",
    "X_test_tfidf = tfidf_vectorizer.transform(X_test_counts)"
   ]
  },
  {
   "cell_type": "markdown",
   "metadata": {
    "pycharm": {
     "name": "#%% md\n"
    }
   },
   "source": [
    "## Machine Learning Models\n",
    "\n",
    "In this part I tried 3 most common ML models for text classification tasks: Naive Bayes,\n",
    "Stochastic Gradiant Descent, and Random Forest.\n",
    "\n",
    "## Naive Bayes"
   ]
  },
  {
   "cell_type": "code",
   "execution_count": 8,
   "metadata": {
    "pycharm": {
     "name": "#%%\n"
    }
   },
   "outputs": [],
   "source": [
    "from sklearn.naive_bayes import MultinomialNB\n",
    "clf_nb = MultinomialNB().fit(X_train_tfidf, y_train)"
   ]
  },
  {
   "cell_type": "code",
   "execution_count": 9,
   "metadata": {
    "pycharm": {
     "name": "#%%\n"
    }
   },
   "outputs": [
    {
     "data": {
      "text/plain": [
       "array(['Marketing', 'Marketing', 'IT', 'IT', 'IT', 'HR', 'IT', 'IT', 'HR',\n",
       "       'HR', 'IT', 'HR', 'IT', 'Marketing', 'IT', 'HR', 'IT', 'HR',\n",
       "       'Marketing', 'HR', 'IT', 'Marketing', 'HR', 'IT', 'IT', 'IT',\n",
       "       'Marketing', 'HR', 'HR', 'Marketing', 'Marketing', 'IT', 'HR',\n",
       "       'HR', 'IT', 'HR', 'Marketing', 'IT', 'IT', 'Marketing', 'IT', 'IT',\n",
       "       'HR', 'Marketing', 'Marketing', 'Marketing', 'Marketing', 'IT'],\n",
       "      dtype='<U9')"
      ]
     },
     "execution_count": 9,
     "metadata": {},
     "output_type": "execute_result"
    }
   ],
   "source": [
    "predicted_nb = clf_nb.predict(X_test_tfidf)\n",
    "predicted_nb"
   ]
  },
  {
   "cell_type": "code",
   "execution_count": 10,
   "metadata": {
    "pycharm": {
     "name": "#%%\n"
    }
   },
   "outputs": [
    {
     "name": "stdout",
     "output_type": "stream",
     "text": [
      "              precision    recall  f1-score   support\n",
      "\n",
      "          HR       1.00      0.82      0.90        17\n",
      "          IT       0.75      1.00      0.86        15\n",
      "   Marketing       0.93      0.81      0.87        16\n",
      "\n",
      "    accuracy                           0.88        48\n",
      "   macro avg       0.89      0.88      0.88        48\n",
      "weighted avg       0.90      0.88      0.88        48\n",
      "\n"
     ]
    }
   ],
   "source": [
    "from sklearn import metrics\n",
    "print(metrics.classification_report(y_test, predicted_nb))"
   ]
  },
  {
   "cell_type": "code",
   "execution_count": 11,
   "metadata": {
    "pycharm": {
     "name": "#%%\n"
    }
   },
   "outputs": [
    {
     "data": {
      "text/plain": [
       "array([[14,  2,  1],\n",
       "       [ 0, 15,  0],\n",
       "       [ 0,  3, 13]])"
      ]
     },
     "execution_count": 11,
     "metadata": {},
     "output_type": "execute_result"
    }
   ],
   "source": [
    "metrics.confusion_matrix(y_test, predicted_nb)"
   ]
  },
  {
   "cell_type": "markdown",
   "metadata": {},
   "source": [
    "## Stochastic Gradient Descent"
   ]
  },
  {
   "cell_type": "code",
   "execution_count": 12,
   "metadata": {
    "pycharm": {
     "name": "#%%\n"
    }
   },
   "outputs": [],
   "source": [
    "from sklearn.linear_model import SGDClassifier\n",
    "clf_sgd = SGDClassifier().fit(X_train_tfidf, y_train)"
   ]
  },
  {
   "cell_type": "code",
   "execution_count": 13,
   "metadata": {
    "pycharm": {
     "name": "#%%\n"
    }
   },
   "outputs": [
    {
     "data": {
      "text/plain": [
       "array(['Marketing', 'Marketing', 'IT', 'IT', 'IT', 'HR', 'HR', 'HR', 'HR',\n",
       "       'Marketing', 'IT', 'HR', 'IT', 'Marketing', 'Marketing', 'HR',\n",
       "       'IT', 'HR', 'Marketing', 'HR', 'IT', 'Marketing', 'HR', 'IT', 'IT',\n",
       "       'IT', 'Marketing', 'HR', 'HR', 'Marketing', 'Marketing', 'IT',\n",
       "       'HR', 'HR', 'IT', 'HR', 'Marketing', 'IT', 'IT', 'Marketing', 'IT',\n",
       "       'IT', 'HR', 'Marketing', 'Marketing', 'Marketing', 'Marketing',\n",
       "       'IT'], dtype='<U9')"
      ]
     },
     "execution_count": 13,
     "metadata": {},
     "output_type": "execute_result"
    }
   ],
   "source": [
    "predicted_sgd = clf_sgd.predict(X_test_tfidf)\n",
    "predicted_sgd"
   ]
  },
  {
   "cell_type": "code",
   "execution_count": 14,
   "metadata": {
    "pycharm": {
     "name": "#%%\n"
    }
   },
   "outputs": [
    {
     "name": "stdout",
     "output_type": "stream",
     "text": [
      "              precision    recall  f1-score   support\n",
      "\n",
      "          HR       0.93      0.82      0.87        17\n",
      "          IT       0.88      1.00      0.94        15\n",
      "   Marketing       0.88      0.88      0.88        16\n",
      "\n",
      "    accuracy                           0.90        48\n",
      "   macro avg       0.90      0.90      0.90        48\n",
      "weighted avg       0.90      0.90      0.89        48\n",
      "\n"
     ]
    }
   ],
   "source": [
    "print(metrics.classification_report(y_test, predicted_sgd))"
   ]
  },
  {
   "cell_type": "code",
   "execution_count": 15,
   "metadata": {
    "pycharm": {
     "name": "#%%\n"
    }
   },
   "outputs": [
    {
     "data": {
      "text/plain": [
       "array([[14,  1,  2],\n",
       "       [ 0, 15,  0],\n",
       "       [ 1,  1, 14]])"
      ]
     },
     "execution_count": 15,
     "metadata": {},
     "output_type": "execute_result"
    }
   ],
   "source": [
    "metrics.confusion_matrix(y_test, predicted_sgd)"
   ]
  },
  {
   "cell_type": "markdown",
   "metadata": {},
   "source": [
    "## Random Forest"
   ]
  },
  {
   "cell_type": "code",
   "execution_count": 16,
   "metadata": {
    "pycharm": {
     "name": "#%%\n"
    }
   },
   "outputs": [],
   "source": [
    "from sklearn.ensemble import RandomForestClassifier"
   ]
  },
  {
   "cell_type": "code",
   "execution_count": 17,
   "metadata": {
    "pycharm": {
     "name": "#%%\n"
    }
   },
   "outputs": [
    {
     "data": {
      "text/plain": [
       "RandomForestClassifier(random_state=0)"
      ]
     },
     "execution_count": 17,
     "metadata": {},
     "output_type": "execute_result"
    }
   ],
   "source": [
    "clf_rf = RandomForestClassifier(n_estimators=100, random_state=0)\n",
    "clf_rf.fit(X_train_tfidf, y_train)"
   ]
  },
  {
   "cell_type": "code",
   "execution_count": 18,
   "metadata": {
    "pycharm": {
     "name": "#%%\n"
    }
   },
   "outputs": [
    {
     "name": "stdout",
     "output_type": "stream",
     "text": [
      "              precision    recall  f1-score   support\n",
      "\n",
      "          HR       0.68      1.00      0.81        17\n",
      "          IT       1.00      0.73      0.85        15\n",
      "   Marketing       1.00      0.75      0.86        16\n",
      "\n",
      "    accuracy                           0.83        48\n",
      "   macro avg       0.89      0.83      0.84        48\n",
      "weighted avg       0.89      0.83      0.84        48\n",
      "\n"
     ]
    }
   ],
   "source": [
    "predicted_rf = clf_rf.predict(X_test_tfidf)\n",
    "print(metrics.classification_report(y_test, predicted_rf))"
   ]
  },
  {
   "cell_type": "code",
   "execution_count": 19,
   "metadata": {
    "pycharm": {
     "name": "#%%\n"
    }
   },
   "outputs": [
    {
     "data": {
      "text/plain": [
       "array([[17,  0,  0],\n",
       "       [ 4, 11,  0],\n",
       "       [ 4,  0, 12]])"
      ]
     },
     "execution_count": 19,
     "metadata": {},
     "output_type": "execute_result"
    }
   ],
   "source": [
    "metrics.confusion_matrix(y_test, predicted_rf)"
   ]
  },
  {
   "cell_type": "markdown",
   "metadata": {
    "pycharm": {
     "name": "#%% md\n"
    }
   },
   "source": [
    "## Grid Search\n",
    "\n",
    "By comparing the results of the 3 classifiers, we can see that the SGD model has the best\n",
    "performance (90% accuracy). So I do a grid search to look for the best parameters for the SGD model."
   ]
  },
  {
   "cell_type": "code",
   "execution_count": 20,
   "metadata": {
    "pycharm": {
     "name": "#%%\n"
    }
   },
   "outputs": [],
   "source": [
    "from sklearn.model_selection import GridSearchCV\n",
    "parameters = {'loss': ('hinge',),\n",
    "              'penalty': ('l1', 'l2'),\n",
    "               'alpha': (1e-3, 1e-4, 1e-5),\n",
    "              'random_state': (0,)}\n"
   ]
  },
  {
   "cell_type": "code",
   "execution_count": 21,
   "metadata": {
    "pycharm": {
     "name": "#%%\n"
    }
   },
   "outputs": [],
   "source": [
    "gs_clf = GridSearchCV(clf_sgd, parameters, n_jobs=-1)\n",
    "gs_clf = gs_clf.fit(X_train_tfidf, y_train)"
   ]
  },
  {
   "cell_type": "code",
   "execution_count": 22,
   "metadata": {
    "pycharm": {
     "name": "#%%\n"
    }
   },
   "outputs": [
    {
     "data": {
      "text/plain": [
       "(0.9648221343873518,\n",
       " {'alpha': 0.001, 'loss': 'hinge', 'penalty': 'l2', 'random_state': 0})"
      ]
     },
     "execution_count": 22,
     "metadata": {},
     "output_type": "execute_result"
    }
   ],
   "source": [
    "gs_clf.best_score_, gs_clf.best_params_"
   ]
  },
  {
   "cell_type": "markdown",
   "metadata": {
    "pycharm": {
     "name": "#%% md\n"
    }
   },
   "source": [
    "With the best parameters, we can achieve around 96% accuracy."
   ]
  },
  {
   "cell_type": "markdown",
   "metadata": {
    "pycharm": {
     "name": "#%% md\n"
    }
   },
   "source": [
    "## Build the final model\n",
    "\n",
    "For the best SGD model we found, fit the entire dataset. Then manually test out the model with 3\n",
    "new emails from 3 categories."
   ]
  },
  {
   "cell_type": "code",
   "execution_count": 23,
   "metadata": {
    "pycharm": {
     "name": "#%%\n"
    }
   },
   "outputs": [],
   "source": [
    "X_counts = count_vect.transform(X)\n",
    "X_tfidf = tfidf_vectorizer.transform(X_counts)"
   ]
  },
  {
   "cell_type": "code",
   "execution_count": 24,
   "metadata": {
    "pycharm": {
     "name": "#%%\n"
    }
   },
   "outputs": [],
   "source": [
    "clf_sgd = SGDClassifier(alpha=0.001, \n",
    "                        loss='hinge', \n",
    "                        penalty='l2', \n",
    "                        random_state=0).fit(X_tfidf, y)"
   ]
  },
  {
   "cell_type": "code",
   "execution_count": 25,
   "metadata": {
    "pycharm": {
     "name": "#%%\n"
    }
   },
   "outputs": [],
   "source": [
    "# Three examples of IT, HR, and marketing\n",
    "new_entry = pd.DataFrame([\"Do you know how to open the attachment of an email on my MicroSoft Windows computer?\",\n",
    "                          \"Dear Recruiter, I am applying my job application for a role of marketing specialist\",\n",
    "                          \"Our special offer of 30 percent discount starts now, get our brand's products at a low price\"],\n",
    "                          )\n",
    "new_entry.head()\n",
    "\n",
    "new_entry = new_entry[0].apply(clean_text)"
   ]
  },
  {
   "cell_type": "code",
   "execution_count": 26,
   "metadata": {
    "pycharm": {
     "name": "#%%\n"
    }
   },
   "outputs": [],
   "source": [
    "new_entry_counts = count_vect.transform(new_entry)\n",
    "new_entry_tfidf = tfidf_vectorizer.transform(new_entry_counts)"
   ]
  },
  {
   "cell_type": "code",
   "execution_count": 27,
   "metadata": {
    "pycharm": {
     "name": "#%%\n"
    }
   },
   "outputs": [
    {
     "data": {
      "text/plain": [
       "array(['IT', 'HR', 'Marketing'], dtype='<U9')"
      ]
     },
     "execution_count": 27,
     "metadata": {},
     "output_type": "execute_result"
    }
   ],
   "source": [
    "predicted_new_entry = clf_sgd.predict(new_entry_tfidf)\n",
    "predicted_new_entry"
   ]
  },
  {
   "cell_type": "markdown",
   "metadata": {},
   "source": [
    "We can see that the classifier correctly classifies all 3 new emails: IT, HR, and marketing.\n"
   ]
  }
 ],
 "metadata": {
  "kernelspec": {
   "display_name": "Python 3 (ipykernel)",
   "language": "python",
   "name": "python3"
  },
  "language_info": {
   "codemirror_mode": {
    "name": "ipython",
    "version": 3
   },
   "file_extension": ".py",
   "mimetype": "text/x-python",
   "name": "python",
   "nbconvert_exporter": "python",
   "pygments_lexer": "ipython3",
   "version": "3.8.3"
  }
 },
 "nbformat": 4,
 "nbformat_minor": 1
}